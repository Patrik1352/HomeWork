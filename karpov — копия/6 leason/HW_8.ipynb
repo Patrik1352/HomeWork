{
 "cells": [
  {
   "cell_type": "markdown",
   "id": "e2f11a54",
   "metadata": {},
   "source": [
    "### В данной домашней работе Вам предстоит отработать следующие 2 навыка: работа с пропущенными значениями и анализ выбросов."
   ]
  },
  {
   "cell_type": "code",
   "execution_count": 80,
   "id": "0a3207c4",
   "metadata": {},
   "outputs": [],
   "source": [
    "import numpy as np\n",
    "import pandas as pd\n",
    "\n",
    "data = pd.read_csv('processed_data_with_new_features.csv', index_col='id')"
   ]
  },
  {
   "cell_type": "code",
   "execution_count": 58,
   "id": "40ff8d51",
   "metadata": {},
   "outputs": [
    {
     "data": {
      "text/plain": [
       "id\n",
       "id2875421    6.122493\n",
       "id2377394    6.498282\n",
       "id3858529    7.661527\n",
       "id3504673    6.063785\n",
       "id2181028    6.077642\n",
       "               ...   \n",
       "id2376096    6.658011\n",
       "id1049543    6.486161\n",
       "id2304944    6.639876\n",
       "id2714485    5.924256\n",
       "id1209952    5.293305\n",
       "Name: log_trip_duration, Length: 1458644, dtype: float64"
      ]
     },
     "execution_count": 58,
     "metadata": {},
     "output_type": "execute_result"
    }
   ],
   "source": [
    "data['log_trip_duration']"
   ]
  },
  {
   "cell_type": "markdown",
   "id": "bcfa985e",
   "metadata": {},
   "source": [
    "Никудышный гном случайно пролил кофе на папку с данными и кодом. К несчастью, из-за этого они с братьями потеряли кучу информации в столбиках **passenger_count** и **distance_km**."
   ]
  },
  {
   "cell_type": "code",
   "execution_count": 81,
   "id": "c22f2c97",
   "metadata": {},
   "outputs": [
    {
     "data": {
      "text/plain": [
       "passenger_count    145864\n",
       "distance_km        145864\n",
       "dtype: int64"
      ]
     },
     "execution_count": 81,
     "metadata": {},
     "output_type": "execute_result"
    }
   ],
   "source": [
    "### Выведите количество пропусков в данных колонках\n",
    "### На всякий случай, проверьте целостность данных в остальных\n",
    "\n",
    "data[['passenger_count', 'distance_km']].isna().sum()"
   ]
  },
  {
   "cell_type": "markdown",
   "id": "5a274f91",
   "metadata": {},
   "source": [
    "Начнем с **passenger_count**. Вообще говоря, изначально это была категориальная колонка, к которой мы применили технику OneHotEncoder. Чтобы избавиться от пропусков в данных, конечно, можно просто убрать все объекты, в которых есть пропуски, но тогда мы потеряем ценную информацию. \n",
    "\n",
    "Воспользуйтесь относительно простым приемом из лекции: в указанной колонке заполните пропуски самым *популярным* значением среди неотсутствующих."
   ]
  },
  {
   "cell_type": "code",
   "execution_count": 82,
   "id": "1cc74a87",
   "metadata": {},
   "outputs": [],
   "source": [
    "### Your code is here\n",
    "most_popular_pass_count = data['passenger_count'].value_counts().max()\n",
    "data['passenger_count'] = data['passenger_count'].fillna(most_popular_pass_count)"
   ]
  },
  {
   "cell_type": "code",
   "execution_count": null,
   "id": "bae5c4e8",
   "metadata": {},
   "outputs": [],
   "source": []
  },
  {
   "cell_type": "markdown",
   "id": "5ecd5611",
   "metadata": {},
   "source": [
    "С колонкой **distance_km** поступим более интересным способом!\n",
    "\n",
    "Чтобы заполнить пропуск в данной колонке для того или иного объекта, можно находить наиболее похожий на него объект и подглядывать в его значение **distance_km**. Для того, чтобы понять, насколько объекты похожи друг на друга, необходимо использовать Евклидово расстояние между этими самыми объектами в пространстве всех признаков!\n",
    "\n",
    "С учетом количества объектов в нашем датасете и признаков, посчитать попарные расстояния будет мега-сложно. Поэтому давайте называть объекты похожими, если они принадлежат одной категории, составленной из следующих колонок:\n",
    "\n",
    "1. vendor_id\n",
    "2. store_and_fwd_flag\n",
    "3. traffic_jam\n",
    "4. month_2\n",
    "5. month_3\n",
    "6. month_4\n",
    "7. month_5\n",
    "8. month_6\n",
    "\n",
    "Внутри каждой группы найдите среднее значение признака **distance_km** и заполните NaN'ы в объектах с пропуском в соответствии с тем, к какой категории относится данный объект. Похожее упражнение мы делали на практике в занятии!\n",
    "\n",
    "**Hint**: достаточно просто взять group by по указанным выше категориальным колонкам и верно вставить полученный результат в исходную табличку.\n",
    "\n",
    "P.S. Колонки выбраны случайным образом. Можно было взять и другую комбинацию."
   ]
  },
  {
   "cell_type": "code",
   "execution_count": 83,
   "id": "2766efd0",
   "metadata": {},
   "outputs": [
    {
     "name": "stdout",
     "output_type": "stream",
     "text": [
      "3.183494170366727\n"
     ]
    }
   ],
   "source": [
    "### Your code is here\n",
    "columns_for_grop = 'vendor_id store_and_fwd_flag traffic_jam month_2 month_3 month_4 month_5 month_6'.split(' ')\n",
    "first_nan_loc = data.loc['id3858529'][columns_for_grop].to_list()\n",
    "print(data.groupby(columns_for_grop)['distance_km'].mean().loc[1.0, 0.0, 1.0, 0.0, 0.0, 0.0, 0.0, 0.0])\n",
    "grouped_means = data.groupby(columns_for_grop)['distance_km'].transform('mean')\n",
    "data['distance_km'] = data['distance_km'].fillna(grouped_means)"
   ]
  },
  {
   "cell_type": "code",
   "execution_count": 56,
   "id": "30d95127",
   "metadata": {},
   "outputs": [
    {
     "data": {
      "text/plain": [
       "0"
      ]
     },
     "execution_count": 56,
     "metadata": {},
     "output_type": "execute_result"
    }
   ],
   "source": [
    "### Убедимся, что пропусков не осталось\n",
    "\n",
    "### Your code is here\n",
    "data.isna().sum().sum()"
   ]
  },
  {
   "cell_type": "markdown",
   "id": "91a63218",
   "metadata": {},
   "source": [
    "### Теперь наши данные чисты! Замерьте качество модели на Кросс-Валидации"
   ]
  },
  {
   "cell_type": "code",
   "execution_count": 60,
   "id": "2bae61c4",
   "metadata": {},
   "outputs": [],
   "source": [
    "X = data.drop('log_trip_duration', axis =1)\n",
    "y = data['log_trip_duration']"
   ]
  },
  {
   "cell_type": "code",
   "execution_count": 61,
   "id": "006be92c",
   "metadata": {},
   "outputs": [
    {
     "name": "stdout",
     "output_type": "stream",
     "text": [
      "MSLE на Кросс-валидации: fit_time      3.918\n",
      "score_time    0.263\n",
      "test_score   -0.432\n",
      "dtype: float64\n"
     ]
    }
   ],
   "source": [
    "from sklearn.model_selection import KFold\n",
    "\n",
    "selector = KFold(n_splits=4, shuffle=True, random_state=33)\n",
    "\n",
    "from sklearn.model_selection import cross_validate\n",
    "from sklearn.linear_model import LinearRegression\n",
    "\n",
    "model = LinearRegression()\n",
    "c_v = cross_validate(model, X,y, cv = 4, scoring='neg_mean_squared_error')\n",
    "cross_val_error = pd.DataFrame(c_v).mean()\n",
    "print(f\"MSLE на Кросс-валидации: {round(cross_val_error, 3)}\")"
   ]
  },
  {
   "cell_type": "markdown",
   "id": "f64e0108",
   "metadata": {},
   "source": [
    "### Проведем анализ выбросов! Нарисуйте ящик с усами и гистограмму для таргетной переменной."
   ]
  },
  {
   "cell_type": "code",
   "execution_count": 62,
   "id": "2f34718d",
   "metadata": {},
   "outputs": [],
   "source": [
    "import matplotlib.pyplot as plt\n",
    "import seaborn as sns\n",
    "### Your code is here\n"
   ]
  },
  {
   "cell_type": "code",
   "execution_count": 84,
   "id": "f2abb905",
   "metadata": {},
   "outputs": [
    {
     "data": {
      "text/plain": [
       "<AxesSubplot:xlabel='log_trip_duration'>"
      ]
     },
     "execution_count": 84,
     "metadata": {},
     "output_type": "execute_result"
    },
    {
     "data": {
      "image/png": "[encoded data removed]",
      "text/plain": [
       "<Figure size 432x288 with 1 Axes>"
      ]
     },
     "metadata": {
      "needs_background": "light"
     },
     "output_type": "display_data"
    }
   ],
   "source": [
    "sns.boxplot(data = data, x = 'log_trip_duration')"
   ]
  },
  {
   "cell_type": "markdown",
   "id": "7a364246",
   "metadata": {},
   "source": [
    "Есть ли, на ваш взгляд, в данных выбросы?\n",
    "\n",
    "Кажется, что да!\n",
    "\n",
    "Давайте почистим их, удалив те объекты, таргеты которых находятся вне промежутка\n",
    "\n",
    "(топ 99,5% значение;   топ 0,5% значение)"
   ]
  },
  {
   "cell_type": "code",
   "execution_count": 89,
   "id": "904c1d31",
   "metadata": {},
   "outputs": [],
   "source": [
    "ma, mi = data['log_trip_duration'].quantile([0.995,0.005])\n",
    "data_out_outliers = data[(data['log_trip_duration'] > mi) & (data['log_trip_duration'] < ma)]"
   ]
  },
  {
   "cell_type": "code",
   "execution_count": 87,
   "id": "63e1efca",
   "metadata": {},
   "outputs": [
    {
     "data": {
      "text/plain": [
       "array([8.32845107, 3.93182563])"
      ]
     },
     "execution_count": 87,
     "metadata": {},
     "output_type": "execute_result"
    }
   ],
   "source": [
    "### Your code is here\n",
    "np.percentile(data['log_trip_duration'], [99.5, 0.5])\n"
   ]
  },
  {
   "cell_type": "markdown",
   "id": "35b16739",
   "metadata": {},
   "source": [
    "Снова замерьте качество на кросс-валидации, используя старый selector"
   ]
  },
  {
   "cell_type": "code",
   "execution_count": 90,
   "id": "21a7b5b5",
   "metadata": {},
   "outputs": [],
   "source": [
    "### Your code is here\n",
    "X = data_out_outliers.drop('log_trip_duration', axis =1)\n",
    "y = data_out_outliers['log_trip_duration']"
   ]
  },
  {
   "cell_type": "code",
   "execution_count": 94,
   "id": "280c74c9",
   "metadata": {},
   "outputs": [
    {
     "name": "stdout",
     "output_type": "stream",
     "text": [
      "MSLE на Кросс-валидации: fit_time      3.998\n",
      "score_time    0.249\n",
      "test_score   -0.584\n",
      "dtype: float64\n"
     ]
    }
   ],
   "source": [
    "model = LinearRegression()\n",
    "c_v = cross_validate(model, X,y, cv = 4, scoring='neg_root_mean_squared_error')\n",
    "cross_val_error = pd.DataFrame(c_v).mean()\n",
    "print(f\"MSLE на Кросс-валидации: {round(cross_val_error, 3)}\")"
   ]
  },
  {
   "cell_type": "code",
   "execution_count": null,
   "id": "65e9781f",
   "metadata": {},
   "outputs": [],
   "source": []
  }
 ],
 "metadata": {
  "kernelspec": {
   "display_name": "Python 3 (ipykernel)",
   "language": "python",
   "name": "python3"
  },
  "language_info": {
   "codemirror_mode": {
    "name": "ipython",
    "version": 3
   },
   "file_extension": ".py",
   "mimetype": "text/x-python",
   "name": "python",
   "nbconvert_exporter": "python",
   "pygments_lexer": "ipython3",
   "version": "3.9.7"
  }
 },
 "nbformat": 4,
 "nbformat_minor": 5
}
